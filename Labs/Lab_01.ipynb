{
 "cells": [
  {
   "cell_type": "code",
   "execution_count": 13,
   "metadata": {},
   "outputs": [],
   "source": [
    "from random import random\n",
    "from functools import reduce\n",
    "from collections import namedtuple\n",
    "from queue import PriorityQueue, SimpleQueue, LifoQueue\n",
    "import numpy as np"
   ]
  },
  {
   "cell_type": "code",
   "execution_count": 14,
   "metadata": {},
   "outputs": [
    {
     "name": "stdout",
     "output_type": "stream",
     "text": [
      "(array([False, False,  True,  True, False]), array([False, False, False,  True, False]), array([False, False, False, False,  True]), array([False,  True, False, False, False]), array([ True, False, False, False,  True]), array([False, False, False, False, False]), array([False,  True, False, False, False]), array([ True, False, False, False, False]), array([False, False, False, False, False]), array([False, False, False, False, False]))\n"
     ]
    }
   ],
   "source": [
    "PROBLEM_SIZE = 5\n",
    "NUM_SETS = 10\n",
    "SETS = tuple(np.array([random() < .3 for _ in range(PROBLEM_SIZE)]) for _ in range(NUM_SETS))\n",
    "State = namedtuple('State', ['taken', 'not_taken'])\n",
    "\n",
    "print(SETS)"
   ]
  },
  {
   "cell_type": "code",
   "execution_count": 15,
   "metadata": {},
   "outputs": [],
   "source": []
  },
  {
   "cell_type": "code",
   "execution_count": 16,
   "metadata": {},
   "outputs": [],
   "source": [
    "def goal_check(state):\n",
    "    return np.all(reduce(np.logical_or, [SETS[i] for i in state.taken], np.array([False for _ in range(PROBLEM_SIZE)])))"
   ]
  },
  {
   "cell_type": "code",
   "execution_count": 17,
   "metadata": {},
   "outputs": [],
   "source": [
    "assert goal_check(State(set(range(NUM_SETS)), set())), \"Probelm not solvable\""
   ]
  },
  {
   "cell_type": "code",
   "execution_count": 18,
   "metadata": {},
   "outputs": [],
   "source": [
    "def g(state):\n",
    "    return len(state.taken)"
   ]
  },
  {
   "cell_type": "code",
   "execution_count": 19,
   "metadata": {},
   "outputs": [],
   "source": [
    "def h(state):\n",
    "    # Define a heuristic function that estimates the remaining cost to reach the goal\n",
    "    return PROBLEM_SIZE - sum(reduce(np.logical_or, [SETS[i] for i in state.taken], np.array([False for _ in range(PROBLEM_SIZE)])))"
   ]
  },
  {
   "cell_type": "code",
   "execution_count": 20,
   "metadata": {},
   "outputs": [],
   "source": [
    "def h_g(state):\n",
    "    return  h(state)+g(state)"
   ]
  },
  {
   "cell_type": "code",
   "execution_count": 21,
   "metadata": {},
   "outputs": [
    {
     "name": "stdout",
     "output_type": "stream",
     "text": [
      "Solved in 3 steps\n",
      "Function: 3\n"
     ]
    },
    {
     "data": {
      "text/plain": [
       "State(taken={0, 3, 4}, not_taken={1, 2, 5, 6, 7, 8, 9})"
      ]
     },
     "execution_count": 21,
     "metadata": {},
     "output_type": "execute_result"
    }
   ],
   "source": [
    "# Create a priority queue for A* search\n",
    "frontier = PriorityQueue()\n",
    "\n",
    "# Initialize the initial state with no sets taken and all sets not taken\n",
    "initial_state = State(set(), set(range(NUM_SETS)))\n",
    "\n",
    "# Push the initial state into the priority queue with the heuristic value as priority\n",
    "frontier.put((h_g(initial_state), initial_state))\n",
    "\n",
    "# Initialize a counter to count the number of steps\n",
    "counter = 0\n",
    "\n",
    "# Get the state with the highest priority from the priority queue\n",
    "_, current_state = frontier.get()\n",
    "\n",
    "# Loop until the goal state is reached\n",
    "while not goal_check(current_state):\n",
    "    counter += 1\n",
    "\n",
    "    # Iterate through possible actions (taking sets)\n",
    "    for action in current_state[1]:\n",
    "        new_state = State(current_state.taken ^ {action}, current_state.not_taken ^ {action})\n",
    "        frontier.put((h_g(new_state), new_state))\n",
    "\n",
    "    # Get the state with the highest priority from the priority queue for the next iteration\n",
    "    _, current_state = frontier.get()\n",
    "\n",
    "# Print the number of steps required to solve the problem\n",
    "print(f\"Solved in {counter} steps\")\n",
    "\n",
    "# Print the heuristic value of the final state\n",
    "print(\"Function:\", h_g(current_state))\n",
    "\n",
    "# Return the final state\n",
    "current_state\n"
   ]
  },
  {
   "cell_type": "code",
   "execution_count": 22,
   "metadata": {},
   "outputs": [],
   "source": []
  },
  {
   "cell_type": "code",
   "execution_count": 23,
   "metadata": {},
   "outputs": [
    {
     "ename": "NameError",
     "evalue": "name 'tqdm' is not defined",
     "output_type": "error",
     "traceback": [
      "\u001b[1;31m---------------------------------------------------------------------------\u001b[0m",
      "\u001b[1;31mNameError\u001b[0m                                 Traceback (most recent call last)",
      "\u001b[1;32mc:\\Users\\festa\\OneDrive\\Desktop\\Festa\\Computational Intelligence\\Github Festa Shabani\\Computational_Intelligence\\Labs\\Lab_01.ipynb Cell 11\u001b[0m line \u001b[0;36m7\n\u001b[0;32m      <a href='vscode-notebook-cell:/c%3A/Users/festa/OneDrive/Desktop/Festa/Computational%20Intelligence/Github%20Festa%20Shabani/Computational_Intelligence/Labs/Lab_01.ipynb#X14sZmlsZQ%3D%3D?line=4'>5</a>\u001b[0m counter \u001b[39m=\u001b[39m \u001b[39m0\u001b[39m\n\u001b[0;32m      <a href='vscode-notebook-cell:/c%3A/Users/festa/OneDrive/Desktop/Festa/Computational%20Intelligence/Github%20Festa%20Shabani/Computational_Intelligence/Labs/Lab_01.ipynb#X14sZmlsZQ%3D%3D?line=5'>6</a>\u001b[0m _, current_state \u001b[39m=\u001b[39m frontier\u001b[39m.\u001b[39mget()\n\u001b[1;32m----> <a href='vscode-notebook-cell:/c%3A/Users/festa/OneDrive/Desktop/Festa/Computational%20Intelligence/Github%20Festa%20Shabani/Computational_Intelligence/Labs/Lab_01.ipynb#X14sZmlsZQ%3D%3D?line=6'>7</a>\u001b[0m \u001b[39mwith\u001b[39;00m tqdm(total\u001b[39m=\u001b[39m\u001b[39mNone\u001b[39;00m) \u001b[39mas\u001b[39;00m pbar:\n\u001b[0;32m      <a href='vscode-notebook-cell:/c%3A/Users/festa/OneDrive/Desktop/Festa/Computational%20Intelligence/Github%20Festa%20Shabani/Computational_Intelligence/Labs/Lab_01.ipynb#X14sZmlsZQ%3D%3D?line=7'>8</a>\u001b[0m     \u001b[39mwhile\u001b[39;00m \u001b[39mnot\u001b[39;00m goal_check(current_state):\n\u001b[0;32m      <a href='vscode-notebook-cell:/c%3A/Users/festa/OneDrive/Desktop/Festa/Computational%20Intelligence/Github%20Festa%20Shabani/Computational_Intelligence/Labs/Lab_01.ipynb#X14sZmlsZQ%3D%3D?line=8'>9</a>\u001b[0m         counter \u001b[39m+\u001b[39m\u001b[39m=\u001b[39m \u001b[39m1\u001b[39m\n",
      "\u001b[1;31mNameError\u001b[0m: name 'tqdm' is not defined"
     ]
    }
   ],
   "source": []
  }
 ],
 "metadata": {
  "kernelspec": {
   "display_name": "Python 3",
   "language": "python",
   "name": "python3"
  },
  "language_info": {
   "codemirror_mode": {
    "name": "ipython",
    "version": 3
   },
   "file_extension": ".py",
   "mimetype": "text/x-python",
   "name": "python",
   "nbconvert_exporter": "python",
   "pygments_lexer": "ipython3",
   "version": "3.12.0"
  }
 },
 "nbformat": 4,
 "nbformat_minor": 2
}

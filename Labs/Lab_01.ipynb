{
 "cells": [
  {
   "cell_type": "code",
   "execution_count": 19,
   "metadata": {},
   "outputs": [],
   "source": [
    "from random import random\n",
    "from functools import reduce\n",
    "from collections import namedtuple\n",
    "from queue import PriorityQueue, SimpleQueue, LifoQueue\n",
    "import numpy as np"
   ]
  },
  {
   "cell_type": "code",
   "execution_count": 20,
   "metadata": {},
   "outputs": [
    {
     "name": "stdout",
     "output_type": "stream",
     "text": [
      "(array([ True,  True, False, False, False]), array([False, False,  True, False, False]), array([False, False, False,  True, False]), array([ True, False, False, False, False]), array([False, False,  True, False, False]), array([ True, False,  True,  True,  True]), array([ True,  True, False, False, False]), array([False,  True, False, False, False]), array([False, False,  True,  True,  True]), array([False,  True,  True, False, False]))\n"
     ]
    }
   ],
   "source": [
    "#\n",
    "PROBLEM_SIZE = 5\n",
    "NUM_SETS = 10\n",
    "SETS = tuple(np.array([random() < .3 for _ in range(PROBLEM_SIZE)]) for _ in range(NUM_SETS))\n",
    "State = namedtuple('State', ['taken', 'not_taken'])\n",
    "\n",
    "print(SETS)"
   ]
  },
  {
   "cell_type": "code",
   "execution_count": null,
   "metadata": {},
   "outputs": [],
   "source": []
  },
  {
   "cell_type": "code",
   "execution_count": 21,
   "metadata": {},
   "outputs": [],
   "source": [
    "def goal_check(state):\n",
    "    return np.all(reduce(np.logical_or, [SETS[i] for i in state.taken], np.array([False for _ in range(PROBLEM_SIZE)])))"
   ]
  },
  {
   "cell_type": "code",
   "execution_count": 22,
   "metadata": {},
   "outputs": [],
   "source": [
    "assert goal_check(State(set(range(NUM_SETS)), set())), \"Probelm not solvable\""
   ]
  },
  {
   "cell_type": "code",
   "execution_count": 23,
   "metadata": {},
   "outputs": [],
   "source": [
    "def g(state):\n",
    "    return len(state.taken)"
   ]
  },
  {
   "cell_type": "code",
   "execution_count": 24,
   "metadata": {},
   "outputs": [],
   "source": [
    "def h0(state):\n",
    "    # Define a heuristic function that estimates the remaining cost to reach the goal\n",
    "    return PROBLEM_SIZE - sum(reduce(np.logical_or, [SETS[i] for i in state.taken], np.array([False for _ in range(PROBLEM_SIZE)])))\n",
    "\n",
    "\n",
    "def covered(state):\n",
    "    # Calculate the elements that have been covered by the selected sets\n",
    "    return reduce(\n",
    "        np.logical_or,\n",
    "        [SETS[i] for i in state.taken],\n",
    "        np.zeros(PROBLEM_SIZE, dtype=bool),  # Use np.zeros to create a boolean array\n",
    "    )\n",
    "\n",
    "def sum_second_element(x):\n",
    "    return np.sum(x[1])\n",
    "\n",
    "def calculate_frequency(i, already_covered, state):\n",
    "    set_ = SETS[i]\n",
    "    # Calculate the overlap with the already covered elements\n",
    "    overlap = np.sum(np.logical_and(set_, already_covered))\n",
    "    # Calculate the potential coverage of this set (number of uncovered elements it can cover)\n",
    "    potential_coverage = np.sum(np.logical_and(set_, np.logical_not(already_covered)))\n",
    "    # Calculate the frequency as the ratio of potential coverage to (overlap + 1) to avoid division by zero\n",
    "    frequency = potential_coverage / (overlap + 1)\n",
    "    return frequency\n",
    "\n",
    "def h(state):\n",
    "    already_covered = covered(state)\n",
    "    if np.all(already_covered):\n",
    "        # If all elements are covered, no need to select more sets\n",
    "        return 0\n",
    "    \n",
    "    missing_size = PROBLEM_SIZE - np.sum(already_covered)  # Use np.sum for summing boolean array\n",
    "\n",
    "    frequencies = [(i, calculate_frequency(i, already_covered, state)) for i in state.not_taken]\n",
    "    sorted_frequencies = sorted(frequencies, key=sum_second_element, reverse=True)\n",
    "    candidates = [SETS[i] for i, _ in sorted_frequencies]\n",
    "\n",
    "    taken = 0  # Initialize to 0 since no sets have been taken yet\n",
    "    covered_elements = np.zeros(PROBLEM_SIZE, dtype=bool)\n",
    "\n",
    "    while np.sum(covered_elements) < missing_size:\n",
    "        covered_elements |= candidates[taken]\n",
    "        taken += 1\n",
    "\n",
    "    return taken\n"
   ]
  },
  {
   "cell_type": "code",
   "execution_count": 25,
   "metadata": {},
   "outputs": [],
   "source": [
    "def h_g(state):\n",
    "    return  h(state)+g(state)"
   ]
  },
  {
   "cell_type": "code",
   "execution_count": 26,
   "metadata": {},
   "outputs": [
    {
     "name": "stdout",
     "output_type": "stream",
     "text": [
      "Solved in 4 steps\n",
      "Function: 2\n"
     ]
    },
    {
     "data": {
      "text/plain": [
       "State(taken={0, 5}, not_taken={1, 2, 3, 4, 6, 7, 8, 9})"
      ]
     },
     "execution_count": 26,
     "metadata": {},
     "output_type": "execute_result"
    }
   ],
   "source": [
    "# Create a priority queue for A* search\n",
    "frontier = PriorityQueue()\n",
    "\n",
    "# Initialize the initial state with no sets taken and all sets not taken\n",
    "initial_state = State(set(), set(range(NUM_SETS)))\n",
    "\n",
    "# Push the initial state into the priority queue with the heuristic value as priority\n",
    "frontier.put((h_g(initial_state), initial_state))\n",
    "\n",
    "# Initialize a counter to count the number of steps\n",
    "counter = 0\n",
    "\n",
    "# Get the state with the highest priority from the priority queue\n",
    "_, current_state = frontier.get()\n",
    "\n",
    "# Loop until the goal state is reached\n",
    "while not goal_check(current_state):\n",
    "    counter += 1\n",
    "\n",
    "    # Iterate through possible actions (taking sets)\n",
    "    for action in current_state[1]:\n",
    "        new_state = State(current_state.taken ^ {action}, current_state.not_taken ^ {action})\n",
    "        frontier.put((h_g(new_state), new_state))\n",
    "\n",
    "    # Get the state with the highest priority from the priority queue for the next iteration\n",
    "    _, current_state = frontier.get()\n",
    "\n",
    "# Print the number of steps required to solve the problem\n",
    "print(f\"Solved in {counter} steps\")\n",
    "\n",
    "# Print the heuristic value of the final state\n",
    "print(\"Function:\", h_g(current_state))\n",
    "\n",
    "# Return the final state\n",
    "current_state\n"
   ]
  }
 ],
 "metadata": {
  "kernelspec": {
   "display_name": "Python 3",
   "language": "python",
   "name": "python3"
  },
  "language_info": {
   "codemirror_mode": {
    "name": "ipython",
    "version": 3
   },
   "file_extension": ".py",
   "mimetype": "text/x-python",
   "name": "python",
   "nbconvert_exporter": "python",
   "pygments_lexer": "ipython3",
   "version": "3.12.0"
  }
 },
 "nbformat": 4,
 "nbformat_minor": 2
}

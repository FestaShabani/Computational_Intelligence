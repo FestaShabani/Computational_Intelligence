{
 "cells": [
  {
   "cell_type": "code",
   "execution_count": 120,
   "metadata": {},
   "outputs": [],
   "source": [
    "from random import random\n",
    "from functools import reduce\n",
    "from collections import namedtuple\n",
    "from queue import PriorityQueue, SimpleQueue, LifoQueue\n",
    "import numpy as np"
   ]
  },
  {
   "cell_type": "code",
   "execution_count": 121,
   "metadata": {},
   "outputs": [
    {
     "name": "stdout",
     "output_type": "stream",
     "text": [
      "(array([False,  True, False, False, False]), array([False, False,  True,  True, False]), array([False, False, False, False, False]), array([ True, False, False, False,  True]), array([False,  True, False, False, False]), array([False, False, False, False, False]), array([False, False, False, False, False]), array([False, False,  True,  True, False]), array([False,  True, False, False, False]), array([False,  True,  True, False, False]))\n"
     ]
    }
   ],
   "source": [
    "PROBLEM_SIZE = 5\n",
    "NUM_SETS = 10\n",
    "SETS = tuple(np.array([random() < .3 for _ in range(PROBLEM_SIZE)]) for _ in range(NUM_SETS))\n",
    "State = namedtuple('State', ['taken', 'not_taken'])\n",
    "\n",
    "print(SETS)"
   ]
  },
  {
   "cell_type": "code",
   "execution_count": 122,
   "metadata": {},
   "outputs": [],
   "source": [
    "def goal_check(state):\n",
    "    return np.all(reduce(np.logical_or, [SETS[i] for i in state.taken], np.array([False for _ in range(PROBLEM_SIZE)])))"
   ]
  },
  {
   "cell_type": "code",
   "execution_count": 123,
   "metadata": {},
   "outputs": [],
   "source": [
    "assert goal_check(State(set(range(NUM_SETS)), set())), \"Probelm not solvable\""
   ]
  },
  {
   "cell_type": "code",
   "execution_count": 124,
   "metadata": {},
   "outputs": [],
   "source": [
    "def g(state):\n",
    "    return len(state.taken)"
   ]
  },
  {
   "cell_type": "code",
   "execution_count": 125,
   "metadata": {},
   "outputs": [],
   "source": [
    "def h(state):\n",
    "    # Define a heuristic function that estimates the remaining cost to reach the goal\n",
    "    return PROBLEM_SIZE - sum(reduce(np.logical_or, [SETS[i] for i in state.taken], np.array([False for _ in range(PROBLEM_SIZE)])))"
   ]
  },
  {
   "cell_type": "code",
   "execution_count": 126,
   "metadata": {},
   "outputs": [],
   "source": [
    "def h_g(state):\n",
    "    return  h(state)+g(state)"
   ]
  },
  {
   "cell_type": "code",
   "execution_count": 135,
   "metadata": {},
   "outputs": [
    {
     "name": "stdout",
     "output_type": "stream",
     "text": [
      "Solved in 3 steps\n",
      "Function: 3\n"
     ]
    },
    {
     "data": {
      "text/plain": [
       "State(taken={0, 1, 3}, not_taken={2, 4, 5, 6, 7, 8, 9})"
      ]
     },
     "execution_count": 135,
     "metadata": {},
     "output_type": "execute_result"
    }
   ],
   "source": [
    "# Create a priority queue for A* search\n",
    "frontier = PriorityQueue()\n",
    "\n",
    "# Initialize the initial state with no sets taken and all sets not taken\n",
    "initial_state = State(set(), set(range(NUM_SETS)))\n",
    "\n",
    "# Push the initial state into the priority queue with the heuristic value as priority\n",
    "frontier.put((h_g(initial_state), initial_state))\n",
    "\n",
    "# Initialize a counter to count the number of steps\n",
    "counter = 0\n",
    "\n",
    "# Get the state with the highest priority from the priority queue\n",
    "_, current_state = frontier.get()\n",
    "\n",
    "# Loop until the goal state is reached\n",
    "while not goal_check(current_state):\n",
    "    counter += 1\n",
    "\n",
    "    # Iterate through possible actions (taking sets)\n",
    "    for action in current_state[1]:\n",
    "        new_state = State(current_state.taken ^ {action}, current_state.not_taken ^ {action})\n",
    "        frontier.put((h_g(new_state), new_state))\n",
    "\n",
    "    # Get the state with the highest priority from the priority queue for the next iteration\n",
    "    _, current_state = frontier.get()\n",
    "\n",
    "# Print the number of steps required to solve the problem\n",
    "print(f\"Solved in {counter} steps\")\n",
    "\n",
    "# Print the heuristic value of the final state\n",
    "print(\"Function:\", h_g(current_state))\n",
    "\n",
    "# Return the final state\n",
    "current_state\n"
   ]
  }
 ],
 "metadata": {
  "kernelspec": {
   "display_name": "Python 3",
   "language": "python",
   "name": "python3"
  },
  "language_info": {
   "codemirror_mode": {
    "name": "ipython",
    "version": 3
   },
   "file_extension": ".py",
   "mimetype": "text/x-python",
   "name": "python",
   "nbconvert_exporter": "python",
   "pygments_lexer": "ipython3",
   "version": "3.12.0"
  }
 },
 "nbformat": 4,
 "nbformat_minor": 2
}

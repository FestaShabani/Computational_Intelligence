{
 "cells": [
  {
   "cell_type": "code",
   "execution_count": 4,
   "metadata": {},
   "outputs": [],
   "source": [
    "from itertools import product\n",
    "from random import random, randint, shuffle, seed\n",
    "\n",
    "import numpy as np\n",
    "from scipy import sparse\n",
    "from functools import reduce\n",
    "from random import randint, seed\n",
    "from copy import deepcopy\n",
    "import pandas as pd\n",
    "\n",
    "def make_set_covering_problem(num_points, num_sets, density):\n",
    "    \"\"\"Returns a sparse array where rows are sets and columns are the covered items\"\"\"\n",
    "    seed(num_points*2654435761+num_sets+density)\n",
    "    sets = sparse.lil_array((num_sets, num_points), dtype=bool)\n",
    "    for s, p in product(range(num_sets), range(num_points)):\n",
    "        if random() < density:\n",
    "            sets[s, p] = True\n",
    "    for p in range(num_points):\n",
    "        sets[randint(0, num_sets-1), p] = True\n",
    "    return sets"
   ]
  },
  {
   "cell_type": "code",
   "execution_count": 5,
   "metadata": {},
   "outputs": [],
   "source": [
    "def evaluate_fitness(state, problem_matrix):\n",
    "    #Evaluate the fitness of a state\n",
    "    global fitness_call_count\n",
    "    fitness_call_count += 1\n",
    "\n",
    "    cost = np.sum(state)\n",
    "    coverage = np.sum(\n",
    "        reduce(\n",
    "            np.logical_or,\n",
    "            [[problem_matrix[i,j] for j in range(TOTAL_POINTS)] for i, included in enumerate(state) if included],\n",
    "            np.array([False for _ in range (TOTAL_POINTS)]),\n",
    "        )\n",
    "    )\n",
    "    return coverage, -cost\n",
    "\n",
    "def modify_state(current_state):\n",
    "    #Generate a neighbor state by flipping one set's inclusion\n",
    "    modified_state = deepcopy(current_state)\n",
    "    random_index = randint(0, TOTAL_POINTS - 1)\n",
    "    modified_state[random_index] = not modified_state[random_index]\n",
    "    return modified_state\n",
    "\n",
    "\n",
    "\n",
    "def run_hill_climbing(problem_matrix, iterations=1000):\n",
    "    global fitness_call_count\n",
    "    fitness_call_count = 0  # Reset fitness function call counter\n",
    "    current_solution = [False] * TOTAL_SETS\n",
    "\n",
    "    for _ in range(iterations):\n",
    "        potential_solution = modify_state(current_solution)\n",
    "        if evaluate_fitness(potential_solution, problem_matrix) >= evaluate_fitness(current_solution, problem_matrix):\n",
    "            current_solution = potential_solution\n",
    "\n",
    "    return current_solution, evaluate_fitness(current_solution, problem_matrix), fitness_call_count\n",
    "\n",
    "def run_tabu_search(problem_matrix, iterations=1000, tabu_size=100):\n",
    "    global fitness_call_count\n",
    "    fitness_call_count = 0  # Reset fitness function call counter\n",
    "    current_solution = [False] * TOTAL_SETS\n",
    "    tabu_list = []\n",
    "\n",
    "    for _ in range(iterations):\n",
    "        potential_solution = modify_state(current_solution)\n",
    "        if not potential_solution in tabu_list:\n",
    "            if evaluate_fitness(potential_solution, problem_matrix) >= evaluate_fitness(current_solution, problem_matrix):\n",
    "                # Update the tabu list with the current solution\n",
    "                # if len(tabu_list) >= tabu_size:\n",
    "                #     tabu_list.pop(0)  # Remove the oldest entry\n",
    "                tabu_list.append(current_solution)\n",
    "                current_solution = potential_solution\n",
    "            else:\n",
    "                tabu_list.append(potential_solution)\n",
    "\n",
    "    return current_solution, evaluate_fitness(current_solution, problem_matrix), fitness_call_count\n"
   ]
  },
  {
   "cell_type": "code",
   "execution_count": 6,
   "metadata": {},
   "outputs": [
    {
     "name": "stdout",
     "output_type": "stream",
     "text": [
      "Hill Climbing - Number of fitness function calls: 2000\n",
      "Hill Climbing - Solution fitness: (100, -8)\n",
      "Tabu Search - Number of fitness function calls: 328\n",
      "Tabu Search - Solution fitness: (100, -9)\n",
      "\n"
     ]
    }
   ],
   "source": [
    "TOTAL_SETS = 100\n",
    "TOTAL_POINTS = TOTAL_SETS\n",
    "COVER_DENSITY = 0.3\n",
    "fitness_call_count = 0  # Global variable to track fitness function calls\n",
    "\n",
    "\n",
    "# Generate the set covering problem\n",
    "problem_matrix = make_set_covering_problem(TOTAL_SETS, TOTAL_POINTS, COVER_DENSITY)\n",
    "\n",
    "# Run hill climbing optimization\n",
    "hill_climbing_solution, hill_climbing_fitness, hill_climbing_call_count = run_hill_climbing(problem_matrix)\n",
    "\n",
    "print(f\"Hill Climbing - Number of fitness function calls: {hill_climbing_call_count-1}\")\n",
    "print(f\"Hill Climbing - Solution fitness: {hill_climbing_fitness}\")\n",
    "\n",
    "# Run tabu search optimization\n",
    "tabu_search_solution, tabu_search_fitness, tabu_search_call_count = run_tabu_search(problem_matrix)\n",
    "\n",
    "print(f\"Tabu Search - Number of fitness function calls: {tabu_search_call_count-1}\")\n",
    "print(f\"Tabu Search - Solution fitness: {tabu_search_fitness}\")\n",
    "print()"
   ]
  },
  {
   "cell_type": "code",
   "execution_count": 7,
   "metadata": {},
   "outputs": [
    {
     "name": "stdout",
     "output_type": "stream",
     "text": [
      "Hill Climbing - Number of fitness function calls: 2000\n",
      "Hill Climbing - Solution fitness: (100, -3)\n",
      "Tabu Search - Number of fitness function calls: 386\n",
      "Tabu Search - Solution fitness: (100, -3)\n",
      "\n"
     ]
    }
   ],
   "source": [
    "TOTAL_SETS = 100\n",
    "TOTAL_POINTS = TOTAL_SETS\n",
    "COVER_DENSITY = 0.7\n",
    "fitness_call_count = 0  # Global variable to track fitness function calls\n",
    "\n",
    "\n",
    "# Generate the set covering problem\n",
    "problem_matrix = make_set_covering_problem(TOTAL_SETS, TOTAL_POINTS, COVER_DENSITY)\n",
    "\n",
    "# Run hill climbing optimization\n",
    "hill_climbing_solution, hill_climbing_fitness, hill_climbing_call_count = run_hill_climbing(problem_matrix)\n",
    "\n",
    "print(f\"Hill Climbing - Number of fitness function calls: {hill_climbing_call_count-1}\")\n",
    "print(f\"Hill Climbing - Solution fitness: {hill_climbing_fitness}\")\n",
    "\n",
    "# Run tabu search optimization\n",
    "tabu_search_solution, tabu_search_fitness, tabu_search_call_count = run_tabu_search(problem_matrix)\n",
    "\n",
    "print(f\"Tabu Search - Number of fitness function calls: {tabu_search_call_count-1}\")\n",
    "print(f\"Tabu Search - Solution fitness: {tabu_search_fitness}\")\n",
    "print()"
   ]
  }
 ],
 "metadata": {
  "kernelspec": {
   "display_name": "Python 3",
   "language": "python",
   "name": "python3"
  },
  "language_info": {
   "codemirror_mode": {
    "name": "ipython",
    "version": 3
   },
   "file_extension": ".py",
   "mimetype": "text/x-python",
   "name": "python",
   "nbconvert_exporter": "python",
   "pygments_lexer": "ipython3",
   "version": "3.12.0"
  }
 },
 "nbformat": 4,
 "nbformat_minor": 2
}

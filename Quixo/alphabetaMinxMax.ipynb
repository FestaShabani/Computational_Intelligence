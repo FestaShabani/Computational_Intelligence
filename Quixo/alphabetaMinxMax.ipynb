{
 "cells": [
  {
   "cell_type": "code",
   "execution_count": 8,
   "metadata": {},
   "outputs": [],
   "source": [
    "import random\n",
    "from game import Game, Move, Player\n",
    "from copy import deepcopy\n",
    "import sys\n",
    "import numpy as np\n",
    "\n",
    "class RandomPlayer(Player):\n",
    "    def __init__(self) -> None:\n",
    "        super().__init__()\n",
    "\n",
    "    def make_move(self, game: 'Game') -> tuple[tuple[int, int], Move]:\n",
    "        #game.print()\n",
    "        from_pos = (random.randint(0, 4), random.randint(0, 4))\n",
    "        move = random.choice([Move.TOP, Move.BOTTOM, Move.LEFT, Move.RIGHT])\n",
    "        return from_pos, move"
   ]
  },
  {
   "cell_type": "code",
   "execution_count": 9,
   "metadata": {},
   "outputs": [],
   "source": [
    "\n",
    "class MinMax_AlphaBeta_Player(Player):\n",
    "    def __init__(self, depth_limit=2) -> None:\n",
    "        super().__init__()\n",
    "        self.DEPTH_LIMIT = depth_limit\n",
    "\n",
    "    def make_move(self, game: 'Game') -> tuple[tuple[int, int], Move]:\n",
    "        _, move_sequence = self.minMax_alphaBeta(game,0, -float('inf'), float('inf'), True)\n",
    "        return move_sequence\n",
    "    \n",
    "    def minMax_alphaBeta(self, game,current_depth, alpha, beta, is_maximizing, ):\n",
    "        # Base case: Check if the game has a winner or if the current depth equals the depth limit\n",
    "        if game.check_winner() != -1 or current_depth == self.DEPTH_LIMIT:\n",
    "            # Evaluate the game state based on the winner\n",
    "            if game.check_winner() == 0:  # If player 0 wins\n",
    "                return 1, None\n",
    "            elif game.check_winner() == 1:  # If player 1 wins\n",
    "                return -1, None\n",
    "            else:  # If there's no winner, evaluate based on the difference in counts of player pieces\n",
    "                zero_count = np.count_nonzero(game._board == 0)\n",
    "                one_count = np.count_nonzero(game._board == 1)\n",
    "                return (zero_count - one_count) / 100, None\n",
    "\n",
    "        # Prepare for the next level of depth\n",
    "        current_depth += 1\n",
    "\n",
    "        # Initialize variables for tracking the best score and move\n",
    "        if is_maximizing:\n",
    "            best_score = float('-inf')\n",
    "        else:\n",
    "            best_score = float('inf')\n",
    "        best_move = None\n",
    "\n",
    "        # Determine the current player based on maximizing or minimizing state\n",
    "        current_player = 0 if is_maximizing else 1\n",
    "\n",
    "        # Generate all possible moves for the current player\n",
    "        for move in self.possible_moves(game, current_player):\n",
    "            # Create a new game state by applying the current move\n",
    "            new_game_state = self.new_game_state(game, move, current_player)\n",
    "\n",
    "            # Recursively call minMax for the new game state, flipping the is_maximizing flag\n",
    "            score, _ = self.minMax_alphaBeta(new_game_state, current_depth, alpha, beta, not is_maximizing)\n",
    "\n",
    "            # Update the best score and move based on maximizing or minimizing condition\n",
    "            if is_maximizing and score > best_score:\n",
    "                best_score, best_move = score, move\n",
    "                alpha = max(alpha, best_score)  # Update alpha\n",
    "                if beta <= alpha:  # Cut-off condition\n",
    "                    break  # Beta cut-off: No need to explore further as the minimizing player would avoid this branch\n",
    "            elif not is_maximizing and score < best_score:\n",
    "                best_score, best_move = score, move\n",
    "                beta = min(beta, score) # Update beta\n",
    "                if alpha > beta: # Cut-off condition\n",
    "                    break  # Alpha cut-off: No need to explore further as the maximizing player would avoid this branch\n",
    "\n",
    "        # Return the best score and the corresponding move that leads to that score\n",
    "        return best_score, best_move\n",
    "    \n",
    "    def new_game_state(self, game, move, player):\n",
    "        # Create a deep copy of the game object to avoid modifying the original game state\n",
    "        game_copy = deepcopy(game)\n",
    "\n",
    "        # Extract the position and action from the move tuple\n",
    "        position, action = move\n",
    "\n",
    "        # Apply the move to the copied game state\n",
    "        game_copy.move(position, action, player)\n",
    "\n",
    "        # This new game state reflects the board after the move has been made\n",
    "        return game_copy\n",
    "    def valid_move(self, position, action):\n",
    "            # True if the move does not attempt to go beyond the board's boundaries; otherwise, False.\n",
    "        return not ((position[1] == 0 and action == Move.TOP)  # Can't move up from the top edge\n",
    "                or (position[1] == 4 and action == Move.BOTTOM)  # Can't move down from the bottom edge\n",
    "                or (position[0] == 0 and action == Move.LEFT)  # Can't move left from the left edge\n",
    "                or (position[0] == 4 and action == Move.RIGHT))  # Can't move right from the right edge\n",
    "\n",
    "    def possible_moves(self, game, player):\n",
    "        # Generate potential positions on the edges of the board that are valid for the player.\n",
    "        potential_positions = [(i, j) for i in range(5) for j in range(5)\n",
    "                            if (i == 0 or i == 4 or j == 0 or j == 4)  # Position is on the edge\n",
    "                            and (game._board[j, i] == -1 or game._board[j, i] == player)]  # Position is unoccupied or occupied by the player\n",
    "\n",
    "        # Generate all possible moves from these positions, considering all four directions.\n",
    "        potential_moves = [(position, action) for position in potential_positions for action in [Move.TOP, Move.BOTTOM, Move.LEFT, Move.RIGHT]]\n",
    "\n",
    "        # Filter out moves that are not valid (i.e., would move off the board).\n",
    "        potential_moves = [(position, action) for position, action in potential_moves if self.valid_move(position, action)]\n",
    "\n",
    "    # Return the filtered list of valid moves.\n",
    "        return potential_moves"
   ]
  },
  {
   "cell_type": "code",
   "execution_count": 10,
   "metadata": {},
   "outputs": [],
   "source": [
    "def simulate_games(num_games=1000):\n",
    "    wins = {0: 0, 1: 0, 'draws': 0}\n",
    "    \n",
    "    for _ in range(num_games):\n",
    "        game = Game()  # Initialize a new game instance\n",
    "        player1 = MinMax_AlphaBeta_Player(depth_limit=2)\n",
    "        player2 = RandomPlayer()\n",
    "        \n",
    "        winner = game.play(player1, player2)\n",
    "        if winner != -1:\n",
    "            wins[winner] += 1\n",
    "        else:\n",
    "            wins['draws'] += 1  \n",
    "\n",
    "    return wins"
   ]
  },
  {
   "cell_type": "code",
   "execution_count": 11,
   "metadata": {},
   "outputs": [
    {
     "data": {
      "image/png": "[encoded data removed]",
      "text/plain": [
       "<Figure size 1000x600 with 1 Axes>"
      ]
     },
     "metadata": {},
     "output_type": "display_data"
    }
   ],
   "source": [
    "import matplotlib.pyplot as plt\n",
    "\n",
    "wins = simulate_games(num_games=1000)\n",
    "\n",
    "\n",
    "# Data for plotting\n",
    "labels = ['Player 1 Wins', 'Player 2 Wins', 'Draws']\n",
    "values = [wins[0], wins[1], wins['draws']]\n",
    "\n",
    "# Plotting\n",
    "plt.figure(figsize=(10, 6))\n",
    "plt.bar(labels, values, color=['blue', 'red', 'green'])\n",
    "plt.xlabel('Outcome')\n",
    "plt.ylabel('Number of Games')\n",
    "plt.title('Game Outcomes: Wins vs. Losses vs. Draws')\n",
    "plt.xticks(labels)\n",
    "plt.show()"
   ]
  },
  {
   "cell_type": "code",
   "execution_count": 12,
   "metadata": {},
   "outputs": [
    {
     "name": "stdout",
     "output_type": "stream",
     "text": [
      "{0: 1000, 1: 0, 'draws': 0}\n"
     ]
    }
   ],
   "source": [
    "print(wins)"
   ]
  }
 ],
 "metadata": {
  "kernelspec": {
   "display_name": "Python 3",
   "language": "python",
   "name": "python3"
  },
  "language_info": {
   "codemirror_mode": {
    "name": "ipython",
    "version": 3
   },
   "file_extension": ".py",
   "mimetype": "text/x-python",
   "name": "python",
   "nbconvert_exporter": "python",
   "pygments_lexer": "ipython3",
   "version": "3.12.0"
  }
 },
 "nbformat": 4,
 "nbformat_minor": 2
}
